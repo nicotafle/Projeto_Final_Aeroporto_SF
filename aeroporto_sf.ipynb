{
 "cells": [
  {
   "cell_type": "markdown",
   "id": "aecabb78-e047-49de-acdb-4bf1a63bd3ca",
   "metadata": {},
   "source": [
    "### Carga e visualização dos dados"
   ]
  },
  {
   "cell_type": "code",
   "execution_count": 2,
   "id": "cdd8f130-a0d1-4ad3-9269-01bacb638054",
   "metadata": {},
   "outputs": [],
   "source": [
    "# importo biblioteca Pandas \n",
    "import pandas as pd"
   ]
  },
  {
   "cell_type": "code",
   "execution_count": 4,
   "id": "f1bf12cf-1988-4862-ad07-4803acbac13e",
   "metadata": {},
   "outputs": [
    {
     "data": {
      "text/html": [
       "<div>\n",
       "<style scoped>\n",
       "    .dataframe tbody tr th:only-of-type {\n",
       "        vertical-align: middle;\n",
       "    }\n",
       "\n",
       "    .dataframe tbody tr th {\n",
       "        vertical-align: top;\n",
       "    }\n",
       "\n",
       "    .dataframe thead th {\n",
       "        text-align: right;\n",
       "    }\n",
       "</style>\n",
       "<table border=\"1\" class=\"dataframe\">\n",
       "  <thead>\n",
       "    <tr style=\"text-align: right;\">\n",
       "      <th></th>\n",
       "      <th>Activity Period</th>\n",
       "      <th>Operating Airline</th>\n",
       "      <th>Operating Airline IATA Code</th>\n",
       "      <th>Published Airline</th>\n",
       "      <th>Published Airline IATA Code</th>\n",
       "      <th>GEO Summary</th>\n",
       "      <th>GEO Region</th>\n",
       "      <th>Activity Type Code</th>\n",
       "      <th>Price Category Code</th>\n",
       "      <th>Terminal</th>\n",
       "      <th>Boarding Area</th>\n",
       "      <th>Passenger Count</th>\n",
       "      <th>Adjusted Activity Type Code</th>\n",
       "      <th>Adjusted Passenger Count</th>\n",
       "      <th>Year</th>\n",
       "      <th>Month</th>\n",
       "    </tr>\n",
       "  </thead>\n",
       "  <tbody>\n",
       "    <tr>\n",
       "      <th>0</th>\n",
       "      <td>200507</td>\n",
       "      <td>ATA Airlines</td>\n",
       "      <td>TZ</td>\n",
       "      <td>ATA Airlines</td>\n",
       "      <td>TZ</td>\n",
       "      <td>Domestic</td>\n",
       "      <td>US</td>\n",
       "      <td>Deplaned</td>\n",
       "      <td>Low Fare</td>\n",
       "      <td>Terminal 1</td>\n",
       "      <td>B</td>\n",
       "      <td>27271</td>\n",
       "      <td>Deplaned</td>\n",
       "      <td>27271</td>\n",
       "      <td>2005</td>\n",
       "      <td>July</td>\n",
       "    </tr>\n",
       "    <tr>\n",
       "      <th>1</th>\n",
       "      <td>200507</td>\n",
       "      <td>ATA Airlines</td>\n",
       "      <td>TZ</td>\n",
       "      <td>ATA Airlines</td>\n",
       "      <td>TZ</td>\n",
       "      <td>Domestic</td>\n",
       "      <td>US</td>\n",
       "      <td>Enplaned</td>\n",
       "      <td>Low Fare</td>\n",
       "      <td>Terminal 1</td>\n",
       "      <td>B</td>\n",
       "      <td>29131</td>\n",
       "      <td>Enplaned</td>\n",
       "      <td>29131</td>\n",
       "      <td>2005</td>\n",
       "      <td>July</td>\n",
       "    </tr>\n",
       "    <tr>\n",
       "      <th>2</th>\n",
       "      <td>200507</td>\n",
       "      <td>ATA Airlines</td>\n",
       "      <td>TZ</td>\n",
       "      <td>ATA Airlines</td>\n",
       "      <td>TZ</td>\n",
       "      <td>Domestic</td>\n",
       "      <td>US</td>\n",
       "      <td>Thru / Transit</td>\n",
       "      <td>Low Fare</td>\n",
       "      <td>Terminal 1</td>\n",
       "      <td>B</td>\n",
       "      <td>5415</td>\n",
       "      <td>Thru / Transit * 2</td>\n",
       "      <td>10830</td>\n",
       "      <td>2005</td>\n",
       "      <td>July</td>\n",
       "    </tr>\n",
       "    <tr>\n",
       "      <th>3</th>\n",
       "      <td>200507</td>\n",
       "      <td>Air Canada</td>\n",
       "      <td>AC</td>\n",
       "      <td>Air Canada</td>\n",
       "      <td>AC</td>\n",
       "      <td>International</td>\n",
       "      <td>Canada</td>\n",
       "      <td>Deplaned</td>\n",
       "      <td>Other</td>\n",
       "      <td>Terminal 1</td>\n",
       "      <td>B</td>\n",
       "      <td>35156</td>\n",
       "      <td>Deplaned</td>\n",
       "      <td>35156</td>\n",
       "      <td>2005</td>\n",
       "      <td>July</td>\n",
       "    </tr>\n",
       "    <tr>\n",
       "      <th>4</th>\n",
       "      <td>200507</td>\n",
       "      <td>Air Canada</td>\n",
       "      <td>AC</td>\n",
       "      <td>Air Canada</td>\n",
       "      <td>AC</td>\n",
       "      <td>International</td>\n",
       "      <td>Canada</td>\n",
       "      <td>Enplaned</td>\n",
       "      <td>Other</td>\n",
       "      <td>Terminal 1</td>\n",
       "      <td>B</td>\n",
       "      <td>34090</td>\n",
       "      <td>Enplaned</td>\n",
       "      <td>34090</td>\n",
       "      <td>2005</td>\n",
       "      <td>July</td>\n",
       "    </tr>\n",
       "  </tbody>\n",
       "</table>\n",
       "</div>"
      ],
      "text/plain": [
       "   Activity Period Operating Airline Operating Airline IATA Code  \\\n",
       "0           200507      ATA Airlines                          TZ   \n",
       "1           200507      ATA Airlines                          TZ   \n",
       "2           200507      ATA Airlines                          TZ   \n",
       "3           200507       Air Canada                           AC   \n",
       "4           200507       Air Canada                           AC   \n",
       "\n",
       "  Published Airline Published Airline IATA Code    GEO Summary GEO Region  \\\n",
       "0      ATA Airlines                          TZ       Domestic         US   \n",
       "1      ATA Airlines                          TZ       Domestic         US   \n",
       "2      ATA Airlines                          TZ       Domestic         US   \n",
       "3       Air Canada                           AC  International     Canada   \n",
       "4       Air Canada                           AC  International     Canada   \n",
       "\n",
       "  Activity Type Code Price Category Code    Terminal Boarding Area  \\\n",
       "0           Deplaned            Low Fare  Terminal 1             B   \n",
       "1           Enplaned            Low Fare  Terminal 1             B   \n",
       "2     Thru / Transit            Low Fare  Terminal 1             B   \n",
       "3           Deplaned               Other  Terminal 1             B   \n",
       "4           Enplaned               Other  Terminal 1             B   \n",
       "\n",
       "   Passenger Count Adjusted Activity Type Code  Adjusted Passenger Count  \\\n",
       "0            27271                    Deplaned                     27271   \n",
       "1            29131                    Enplaned                     29131   \n",
       "2             5415          Thru / Transit * 2                     10830   \n",
       "3            35156                    Deplaned                     35156   \n",
       "4            34090                    Enplaned                     34090   \n",
       "\n",
       "   Year Month  \n",
       "0  2005  July  \n",
       "1  2005  July  \n",
       "2  2005  July  \n",
       "3  2005  July  \n",
       "4  2005  July  "
      ]
     },
     "execution_count": 4,
     "metadata": {},
     "output_type": "execute_result"
    }
   ],
   "source": [
    "# carrego os meus dados num DataFrame (df)\n",
    "raw_data = pd.read_csv(\n",
    "    \"/Users/anamariarodrigues/Desktop/BIG_DATA/Projeto_Final/Air_Traffic_Passenger_Statistics.csv\")\n",
    "\n",
    "raw_data.head()"
   ]
  },
  {
   "cell_type": "code",
   "execution_count": null,
   "id": "c5b80b06-e6b0-40a1-b007-bca60dc53c7f",
   "metadata": {},
   "outputs": [],
   "source": [
    "# dados estatísticos das colunas numéricas\n",
    "raw_data.describe()"
   ]
  },
  {
   "cell_type": "code",
   "execution_count": null,
   "id": "69f14a6e-0a6d-4d7b-98a2-09fc31a6a1cd",
   "metadata": {},
   "outputs": [],
   "source": [
    "# informação geral do df\n",
    "raw_data.info()"
   ]
  },
  {
   "cell_type": "code",
   "execution_count": null,
   "id": "0a3a5ee8-b38c-4a30-af6c-17afea303fd2",
   "metadata": {},
   "outputs": [],
   "source": [
    "raw_data[\"GEO Summary\"].unique()"
   ]
  },
  {
   "cell_type": "code",
   "execution_count": null,
   "id": "399307b0-3f1c-467e-bd78-6c89e833fd49",
   "metadata": {},
   "outputs": [],
   "source": [
    "raw_data[\"Price Category Code\"].unique()"
   ]
  },
  {
   "cell_type": "code",
   "execution_count": null,
   "id": "6586490b-6e7e-4029-99b6-6541f212d81c",
   "metadata": {},
   "outputs": [],
   "source": [
    "raw_data[\"Boarding Area\"].unique()"
   ]
  },
  {
   "cell_type": "code",
   "execution_count": null,
   "id": "56e09393-9a0b-4dbe-8eec-3df3082fe4f2",
   "metadata": {},
   "outputs": [],
   "source": [
    "# visualização valores nulos\n",
    "raw_data.isnull().sum()"
   ]
  },
  {
   "cell_type": "code",
   "execution_count": null,
   "id": "057f097b-d08d-4e75-8b28-1fc32e6851ff",
   "metadata": {
    "scrolled": true
   },
   "outputs": [],
   "source": [
    "# visualizo os registos que tem valor nulo na coluna referida\n",
    "raw_data[raw_data[\"Operating Airline IATA Code\"].isnull()]"
   ]
  },
  {
   "cell_type": "code",
   "execution_count": null,
   "id": "d2eb452c-dcf1-409a-8ecf-24cffde86979",
   "metadata": {},
   "outputs": [],
   "source": [
    "# valores NC existentes \n",
    "raw_data[raw_data[\"Operating Airline IATA Code\"] == \"NC\"]"
   ]
  },
  {
   "cell_type": "code",
   "execution_count": 6,
   "id": "0ea71107-591e-43af-865c-b821efda52e9",
   "metadata": {},
   "outputs": [
    {
     "data": {
      "text/plain": [
       "Activity Period                0\n",
       "Operating Airline              0\n",
       "Operating Airline IATA Code    0\n",
       "Published Airline              0\n",
       "Published Airline IATA Code    0\n",
       "GEO Summary                    0\n",
       "GEO Region                     0\n",
       "Activity Type Code             0\n",
       "Price Category Code            0\n",
       "Terminal                       0\n",
       "Boarding Area                  0\n",
       "Passenger Count                0\n",
       "Adjusted Activity Type Code    0\n",
       "Adjusted Passenger Count       0\n",
       "Year                           0\n",
       "Month                          0\n",
       "dtype: int64"
      ]
     },
     "execution_count": 6,
     "metadata": {},
     "output_type": "execute_result"
    }
   ],
   "source": [
    "# preencho valores nulos\n",
    "df = raw_data.fillna(\"NC\")\n",
    "df.isnull().sum()"
   ]
  },
  {
   "cell_type": "code",
   "execution_count": null,
   "id": "a0dc3aa5-8d24-484a-ab89-46e73f3b3712",
   "metadata": {},
   "outputs": [],
   "source": [
    "df[\"Month\"].unique()"
   ]
  },
  {
   "cell_type": "code",
   "execution_count": 8,
   "id": "1a15f073-4df4-4526-bcdc-84287d0d743e",
   "metadata": {},
   "outputs": [
    {
     "name": "stderr",
     "output_type": "stream",
     "text": [
      "/var/folders/zd/gvbqgc95263159ttnrj_pp280000gp/T/ipykernel_844/1570323509.py:1: FutureWarning: Downcasting behavior in `replace` is deprecated and will be removed in a future version. To retain the old behavior, explicitly call `result.infer_objects(copy=False)`. To opt-in to the future behavior, set `pd.set_option('future.no_silent_downcasting', True)`\n",
      "  df[\"Month Number\"] = df[\"Month\"].replace({\"January\": 1, \"February\" : 2,\n"
     ]
    }
   ],
   "source": [
    "df[\"Month Number\"] = df[\"Month\"].replace({\"January\": 1, \"February\" : 2,\n",
    "                                        \"March\": 3, \"April\":4,\n",
    "                                        \"May\":5, \"June\": 6, \"July\": 7,\n",
    "                                        \"August\": 8, \"September\": 9,\n",
    "                                        \"October\": 10, \"November\": 11,\n",
    "                                        \"December\": 12                                                \n",
    "                                          })\n",
    "df[\"Month Number\"] = df[\"Month Number\"].astype(\"int\")"
   ]
  },
  {
   "cell_type": "code",
   "execution_count": 10,
   "id": "d5b23ea6-532d-4d7e-b2bc-1e7cb12cfa11",
   "metadata": {},
   "outputs": [],
   "source": [
    "# Apago coluna duplicada\n",
    "df.drop(columns = [\"Month\"], inplace = True)\n",
    "df.rename(columns = {\"Month Number\" : \"Month\"}, inplace = True)"
   ]
  },
  {
   "cell_type": "code",
   "execution_count": null,
   "id": "a16e7332-14d5-4947-bebf-d0a415679421",
   "metadata": {},
   "outputs": [],
   "source": [
    "df[\"Month\"].head()"
   ]
  },
  {
   "cell_type": "markdown",
   "id": "22b0f39c-0ee6-4bff-b900-575f4fdf71b3",
   "metadata": {},
   "source": [
    "### Conexão com MongoDB"
   ]
  },
  {
   "cell_type": "code",
   "execution_count": 12,
   "id": "efe9bd59-7cdc-4972-b1c4-2a214c7d4c61",
   "metadata": {},
   "outputs": [],
   "source": [
    "# importo bibliotecas\n",
    "from pymongo import MongoClient\n",
    "from json import loads"
   ]
  },
  {
   "cell_type": "markdown",
   "id": "e0592f1b-5183-4b88-b7cc-5c76fe608b17",
   "metadata": {},
   "source": [
    "#### Transfromação para JSON"
   ]
  },
  {
   "cell_type": "code",
   "execution_count": 14,
   "id": "f45ded7b-ac67-4f55-8354-274479459985",
   "metadata": {},
   "outputs": [],
   "source": [
    "# transformo o DF para o formato JSON\n",
    "df_json = df.to_json(orient = \"records\")\n",
    "parsed = loads(df_json)"
   ]
  },
  {
   "cell_type": "code",
   "execution_count": 24,
   "id": "5e6cbd0d-adbf-4cfa-9cac-6b64cbdd9bdc",
   "metadata": {},
   "outputs": [
    {
     "data": {
      "text/plain": [
       "{'Activity Period': 200507,\n",
       " 'Operating Airline': 'ATA Airlines',\n",
       " 'Operating Airline IATA Code': 'TZ',\n",
       " 'Published Airline': 'ATA Airlines',\n",
       " 'Published Airline IATA Code': 'TZ',\n",
       " 'GEO Summary': 'Domestic',\n",
       " 'GEO Region': 'US',\n",
       " 'Activity Type Code': 'Deplaned',\n",
       " 'Price Category Code': 'Low Fare',\n",
       " 'Terminal': 'Terminal 1',\n",
       " 'Boarding Area': 'B',\n",
       " 'Passenger Count': 27271,\n",
       " 'Adjusted Activity Type Code': 'Deplaned',\n",
       " 'Adjusted Passenger Count': 27271,\n",
       " 'Year': 2005,\n",
       " 'Month': 7,\n",
       " '_id': ObjectId('67f8fe255435822a73f3ec8c')}"
      ]
     },
     "execution_count": 24,
     "metadata": {},
     "output_type": "execute_result"
    }
   ],
   "source": [
    "parsed[0]"
   ]
  },
  {
   "cell_type": "markdown",
   "id": "020ffa72-8b78-4087-a13f-44deba55a605",
   "metadata": {},
   "source": [
    "#### Função e inserção de objetos"
   ]
  },
  {
   "cell_type": "code",
   "execution_count": 20,
   "id": "8c8d46a3-fbb7-4814-b5f1-ef338a583a5f",
   "metadata": {},
   "outputs": [],
   "source": [
    "# função para inserir vários documentos\n",
    "def insert_many(uri, db, collection, docs):\n",
    "    client = MongoClient(uri)\n",
    "    try:\n",
    "        database = client.get_database(db)\n",
    "        collection = database.get_collection(collection)\n",
    "        collection.insert_many(docs)\n",
    "        client.close()\n",
    "        print(\"Dados inseridos com sucesso\")\n",
    "    except Exception as e:\n",
    "        print(f\"Erro durante a conexão: {e}\")"
   ]
  },
  {
   "cell_type": "code",
   "execution_count": 22,
   "id": "4fbd817a-9a3d-4c47-8098-55d94fe8f1ad",
   "metadata": {},
   "outputs": [
    {
     "name": "stdout",
     "output_type": "stream",
     "text": [
      "Dados inseridos com sucesso\n"
     ]
    }
   ],
   "source": [
    "# aplico função para inserir\n",
    "uri = \"mongodb://localhost:27017/\"\n",
    "db = \"tokiodb\"\n",
    "collection = \"sf_aeroporto\"\n",
    "\n",
    "insert_many(uri, db, collection, parsed)"
   ]
  },
  {
   "cell_type": "code",
   "execution_count": 58,
   "id": "72837a64-0371-4667-8394-dc0e3a8bade1",
   "metadata": {},
   "outputs": [
    {
     "name": "stdout",
     "output_type": "stream",
     "text": [
      "Insersão com sucesso\n"
     ]
    }
   ],
   "source": [
    "from pymongo import MongoClient\n",
    "\n",
    "uri = \"mongodb://localhost:27017/\"\n",
    "client = MongoClient(uri)\n",
    "\n",
    "try:\n",
    "    database = client.get_database(\"mydb\")\n",
    "    users = database.get_collection(\"users\")\n",
    "\n",
    "    users.insert_many(parsed)\n",
    "\n",
    "    client.close()\n",
    "    print(\"Insersão com sucesso\")\n",
    "except Exception as e:\n",
    "    print(f\"Erro durante a conexão: {e}\")"
   ]
  },
  {
   "cell_type": "code",
   "execution_count": null,
   "id": "ff554b21-ef95-495e-a423-d3b2c36f0c62",
   "metadata": {},
   "outputs": [],
   "source": [
    "import psycopg2\n",
    "\n",
    "# faço conexão com a minha Base de Dados\n",
    "conexao = psycopg2.connect(\n",
    "     dbname = \"tokio_viagens\",\n",
    "     user = \"postgres\",\n",
    "     host = \"localhost\",\n",
    "     port = 5432)\n",
    "\n",
    "# para operar na DB abro um 'cursor' \n",
    "cursor = conexao.cursor()\n",
    "\n",
    "# crio loop for para inserir dados na Base de Dados\n",
    "for _, row in df.iterrows():\n",
    "    cursor.execute(\"\"\"INSERT INTO sf_aeroporto (\n",
    "        periodo, empresa_op, iata_op ,empresa_com, iata_com, \n",
    "        geo_info, geo_regiao, estado, categoria, terminal, \n",
    "        porta, passageiros, estado_atual, pass_atual, ano, mes) \n",
    "        VALUES (%s, %s, %s, %s, %s, %s, %s, %s, %s, %s, %s, %s, %s, %s, %s, %s);\n",
    "        \"\"\", tuple(row)\n",
    "                  )\n",
    "\n",
    "# gero o comit e finalizo as conexões com a minha DB\n",
    "conexao.commit()\n",
    "cursor.close()\n",
    "conexao.close()\n",
    "\n",
    "print(\"Dados inseridos com sucesso\")"
   ]
  },
  {
   "cell_type": "markdown",
   "id": "bdb9bce5-69da-4351-931f-8dd528598df6",
   "metadata": {
    "jp-MarkdownHeadingCollapsed": true
   },
   "source": [
    "### Trabalhar dados com PySpark"
   ]
  },
  {
   "cell_type": "code",
   "execution_count": null,
   "id": "a25eeed6-6fa4-40db-8009-8f5f9b7e541b",
   "metadata": {},
   "outputs": [],
   "source": [
    "# importação bibliotecas\n",
    "from pyspark.sql import SparkSession\n",
    "from pyspark.sql import functions as f"
   ]
  },
  {
   "cell_type": "code",
   "execution_count": null,
   "id": "8473fec8-8fed-49b8-841f-039c539771d4",
   "metadata": {},
   "outputs": [],
   "source": [
    "# crio sessão Spark\n",
    "spark = SparkSession.builder.appName(\"Tokio_Airline\").getOrCreate()"
   ]
  },
  {
   "cell_type": "code",
   "execution_count": null,
   "id": "b23a283a-afb7-4f51-8544-cf82c68f27c4",
   "metadata": {},
   "outputs": [],
   "source": [
    "# crio df do spark, partindo do df criado de Pandas\n",
    "df_sp = spark.createDataFrame(df)"
   ]
  },
  {
   "cell_type": "markdown",
   "id": "23ee550f-db04-4661-85bd-fe59c860e3a6",
   "metadata": {
    "jp-MarkdownHeadingCollapsed": true
   },
   "source": [
    "### Exercício 3"
   ]
  },
  {
   "cell_type": "code",
   "execution_count": null,
   "id": "623d5dc7-dcb8-4a41-8f6e-03a7a2c6370b",
   "metadata": {},
   "outputs": [],
   "source": [
    "# número de companhias existentes no df\n",
    "df_sp.select(f.count_distinct(\"Operating Airline\")\\\n",
    "            .alias(\"Companhias operacionais\"),\n",
    "            f.count_distinct(\"Published Airline\")\\\n",
    "            .alias(\"Companhias comerciais\"))\\\n",
    "            .show()"
   ]
  },
  {
   "cell_type": "code",
   "execution_count": null,
   "id": "9674d327-6b41-48ed-b9b0-4c31ddac80b4",
   "metadata": {},
   "outputs": [],
   "source": [
    "# média de passageiros por período e companhias\n",
    "df_avg = df_sp.groupBy([\"Activity Period\", \"Operating Airline\"])\\\n",
    "                        .agg(f.round(f.avg(\"Adjusted Passenger Count\"))\\\n",
    "                        .alias(\"Avg Passenger\")\n",
    "                            )\\\n",
    "                        .orderBy(\"Activity Period\", ascending = False)\n",
    "df_avg.show(5)"
   ]
  },
  {
   "cell_type": "code",
   "execution_count": null,
   "id": "ae3d2e24-a5a0-499a-846c-0ba46976ccdf",
   "metadata": {},
   "outputs": [],
   "source": [
    "# salvar resultados num ficheiro .csv\n",
    "df_avg.write.mode(\"overwrite\")\\\n",
    "        .option(\"header\",\"true\")\\\n",
    "        .csv(\"media_passageiros.csv\")"
   ]
  },
  {
   "cell_type": "code",
   "execution_count": null,
   "id": "7e3f67f0-85e0-4ffa-b23e-e27afab66b5c",
   "metadata": {},
   "outputs": [],
   "source": [
    "# apagando duplicados pela região\n",
    "geo_regiao = df_sp.orderBy(\"Adjusted Passenger Count\", ascending = False)\\\n",
    "                .dropDuplicates([\"GEO Region\"])"
   ]
  },
  {
   "cell_type": "code",
   "execution_count": null,
   "id": "ae58eedf-08c8-41ef-a641-2362109fac8e",
   "metadata": {},
   "outputs": [],
   "source": [
    "geo_regiao.select(\"Operating Airline\", \"GEO Region\", \"Adjusted Passenger Count\")\\\n",
    "        .orderBy(\"Adjusted Passenger Count\", ascending = False)\\\n",
    "        .show()"
   ]
  },
  {
   "cell_type": "code",
   "execution_count": null,
   "id": "5f5e1a62-2485-4ada-8393-1703ddcdbc9a",
   "metadata": {},
   "outputs": [],
   "source": [
    "geo_regiao.write.mode(\"overwrite\")\\\n",
    "        .option(\"header\",\"true\")\\\n",
    "        .csv(\"geo_regiao_unique.csv\")"
   ]
  },
  {
   "cell_type": "markdown",
   "id": "ad361035-07e0-49bf-a74b-671a81e1c7da",
   "metadata": {
    "jp-MarkdownHeadingCollapsed": true
   },
   "source": [
    "### Análise descritiva com PySpark"
   ]
  },
  {
   "cell_type": "code",
   "execution_count": null,
   "id": "ca49428d-0843-4968-a17b-84db6b888ac8",
   "metadata": {},
   "outputs": [],
   "source": [
    "df_sp.printSchema()"
   ]
  },
  {
   "cell_type": "markdown",
   "id": "e8b7d497-a58b-4ca0-865e-839a39f8f719",
   "metadata": {
    "jp-MarkdownHeadingCollapsed": true
   },
   "source": [
    "#### Médias e Desvio padrão"
   ]
  },
  {
   "cell_type": "code",
   "execution_count": null,
   "id": "24dc5139-d5f6-4831-92c7-f8065bbca960",
   "metadata": {},
   "outputs": [],
   "source": [
    "# média de passageiros agrupados por companhias\n",
    "df_sp.groupBy(\"Operating Airline\")\\\n",
    "    .agg(\n",
    "        f.round(f.avg(\"Adjusted Passenger Count\")).alias(\"Media de passageiros\"),\n",
    "        f.round(f.stddev(\"Adjusted Passenger Count\")).alias(\"Desvio padrão\"),\n",
    "        f.max(\"Adjusted Passenger Count\").alias(\"Max\"),\n",
    "        f.min(\"Adjusted Passenger Count\").alias(\"Min\")\n",
    "    )\\\n",
    "    .orderBy(\"Media de passageiros\", ascending = False)\\\n",
    "    .show(15)"
   ]
  },
  {
   "cell_type": "code",
   "execution_count": null,
   "id": "34233577-08bd-40d1-98c4-9f6e2cc1da4b",
   "metadata": {},
   "outputs": [],
   "source": [
    "# resutlados agrupados por região\n",
    "df_sp.groupBy(\"GEO Region\")\\\n",
    "    .agg(\n",
    "        f.round(f.avg(\"Adjusted Passenger Count\")).alias(\"Media passageiros\"),\n",
    "        f.round(f.stddev(\"Adjusted Passenger Count\")).alias(\"Desvio padrão\"),\n",
    "        f.max(\"Adjusted Passenger Count\").alias(\"Max\"),\n",
    "        f.min(\"Adjusted Passenger Count\").alias(\"Min\"),\n",
    "        f.median(\"Adjusted Passenger Count\").alias(\"Mediana\")\n",
    "    )\\\n",
    "    .orderBy(\"Media passageiros\", ascending = False)\\\n",
    "    .show()"
   ]
  },
  {
   "cell_type": "code",
   "execution_count": null,
   "id": "e8f5dc9e-abcd-415d-8b18-a85bd831ae19",
   "metadata": {},
   "outputs": [],
   "source": [
    "# cálculo de valores onde o destino é 'US'\n",
    "df_sp.filter(df_sp[\"GEO Region\"] == \"US\")\\\n",
    "    .groupBy(\"Month\")\\\n",
    "    .agg(\n",
    "        f.round(f.avg(\"Adjusted Passenger Count\")).alias(\"Media passageiros\"),\n",
    "        f.round(f.stddev(\"Adjusted Passenger Count\")).alias(\"Desvio padrão\"),\n",
    "        f.max(\"Adjusted Passenger Count\").alias(\"Max\"),\n",
    "        f.min(\"Adjusted Passenger Count\").alias(\"Min\"),\n",
    "    )\\\n",
    "    .orderBy(\"Month\", ascending = True)\\\n",
    "    .show()"
   ]
  },
  {
   "cell_type": "code",
   "execution_count": null,
   "id": "117cbe98-2277-4109-b844-e0387f6ac7ba",
   "metadata": {},
   "outputs": [],
   "source": [
    "# análise descritiva agrupado por tipo de voo\n",
    "df_sp.groupBy(\"GEO Summary\")\\\n",
    "    .agg(\n",
    "        f.round(f.avg(\"Adjusted Passenger Count\")).alias(\"Media passageiros\"),\n",
    "        f.round(f.stddev(\"Adjusted Passenger Count\")).alias(\"Desvio padrão\"),\n",
    "        f.max(\"Adjusted Passenger Count\").alias(\"Max\"),\n",
    "        f.min(\"Adjusted Passenger Count\").alias(\"Min\"),\n",
    "        f.median(\"Adjusted Passenger Count\").alias(\"Mediana\")\n",
    "    )\\\n",
    "    .orderBy(\"Media passageiros\", ascending = False)\\\n",
    "    .show()"
   ]
  },
  {
   "cell_type": "code",
   "execution_count": null,
   "id": "1bdd61c3-8f0e-4d39-911f-e1da568f251b",
   "metadata": {},
   "outputs": [],
   "source": [
    "# gráfico auxiliar para compreensão no tipo de voos\n",
    "avg_pass = df_sp.groupby(\"GEO Summary\")\\\n",
    "        .agg(f.round(f.avg(\"Adjusted Passenger Count\"))\\\n",
    "             .alias(\"Media Passageiros\")).toPandas()\n",
    "\n",
    "avg_pass.plot(kind = \"bar\",\n",
    "              figsize = (5,4),\n",
    "              x = \"GEO Summary\",\n",
    "              xlabel = \"Tipo de voo\",\n",
    "              y = \"Media Passageiros\",\n",
    "              legend = False,\n",
    "              title = \"Media de passageiros por tipo de voo\")"
   ]
  },
  {
   "cell_type": "code",
   "execution_count": null,
   "id": "beaac388-10bc-4b55-a090-27466469e0fb",
   "metadata": {},
   "outputs": [],
   "source": [
    "# crio tabela pivot para dividir os dados pelo tipo de voo\n",
    "pivot = df_sp.groupBy(\"Month\")\\\n",
    "        .pivot(\"GEO Summary\")\\\n",
    "        .agg(f.count(\"GEO Summary\")\\\n",
    "        .alias(\"Contagem\"))\\\n",
    "        .orderBy(\"Month\")\n",
    "\n",
    "pivot.show()"
   ]
  },
  {
   "cell_type": "code",
   "execution_count": null,
   "id": "c34cbb5c-86df-4698-a4c8-8c0e9afee09c",
   "metadata": {},
   "outputs": [],
   "source": [
    "import matplotlib.pyplot as plt\n",
    "# gráfico comparativo na frequência de voos\n",
    "pivot_pd = pivot.toPandas()\n",
    "\n",
    "y_values = pivot_pd[\"International\"].values.tolist()\n",
    "y_values2 = pivot_pd[\"Domestic\"].values.tolist()\n",
    "\n",
    "plt.figure(figsize = (6,4))\n",
    "plt.plot(y_values, \"red\", label = \"Internacionais\")\n",
    "plt.plot(y_values2, \"blue\", label =\"Nacionais\")\n",
    "plt.title(\"Frequência de voos\")\n",
    "plt.legend()\n",
    "plt.show()"
   ]
  },
  {
   "cell_type": "code",
   "execution_count": null,
   "id": "545d9017-e875-4bdb-a9e4-075cc3dfd064",
   "metadata": {},
   "outputs": [],
   "source": [
    "# gráfico auxiliar da influéncia sazonal nos voos internacionais\n",
    "pandas_df = df_sp.filter(f.col(\"GEO Summary\") == \"International\")\\\n",
    "        .groupBy(\"Month\")\\\n",
    "        .agg(f.round(f.avg(\"Adjusted Passenger Count\"))\\\n",
    "             .alias(\"Media Passageiros\"))\\\n",
    "        .orderBy(\"Month\").toPandas()\n",
    "\n",
    "y = pandas_df[\"Media Passageiros\"].tolist()\n",
    "\n",
    "plt.figure(figsize = (8,5))\n",
    "plt.plot(y)\n",
    "plt.title(\"Média de Passageiros por Mês\")\n",
    "plt.xlabel(\"Month\")\n",
    "plt.show()"
   ]
  },
  {
   "cell_type": "markdown",
   "id": "ef01f6f6-cad2-4a0e-ba65-84f8e916da03",
   "metadata": {
    "jp-MarkdownHeadingCollapsed": true
   },
   "source": [
    "#### Distribuição dos dados"
   ]
  },
  {
   "cell_type": "code",
   "execution_count": null,
   "id": "c7b6be1d-88d3-4851-b29d-309b1da5a12f",
   "metadata": {
    "jp-MarkdownHeadingCollapsed": true
   },
   "outputs": [],
   "source": [
    "# distribuição de tipo de voos\n",
    "dis_geo = df_sp.groupBy(\"GEO Summary\")\\\n",
    "        .agg(f.count(\"GEO Summary\").alias(\"Freq Absoluta\"),\\\n",
    "             f.round(f.count(\"GEO Summary\") * 100 / 15007 ,2)\\\n",
    "             .alias(\"Freq Relativa\"))\n",
    "\n",
    "dis_geo.show()"
   ]
  },
  {
   "cell_type": "code",
   "execution_count": null,
   "id": "b511403f-cb99-498b-9c2d-62ada3d4a405",
   "metadata": {},
   "outputs": [],
   "source": [
    "# grafico de barras\n",
    "pandas_df = dis_geo.toPandas()\n",
    "pandas_df.plot(kind = \"bar\",\n",
    "                x= \"GEO Summary\", \n",
    "                xlabel = \"Tipo de voo\",\n",
    "                y= \"Freq Relativa\",\n",
    "                figsize = (5,4),\n",
    "                title = \"Frequencia de tipo de voos\",\n",
    "                legend = False,\n",
    "                ylim = (0, 75))"
   ]
  },
  {
   "cell_type": "code",
   "execution_count": null,
   "id": "e6170da5-280b-4905-8e67-3b624ceeb565",
   "metadata": {},
   "outputs": [],
   "source": [
    "dis_reg = df_sp.filter(df_sp[\"GEO Summary\"] == \"International\")\\\n",
    "    .groupBy(\"GEO Region\")\\\n",
    "    .agg(f.count(\"GEO Region\").alias(\"Freq Absoluta\"),\\\n",
    "        f.round(f.count(\"GEO Region\") * 100 / 15007, 2)\\\n",
    "        .alias(\"Freq Relativa\"))\\\n",
    "    .orderBy(\"Freq Absoluta\", ascending = False)\n",
    "\n",
    "dis_reg.show()"
   ]
  },
  {
   "cell_type": "code",
   "execution_count": null,
   "id": "dd3b4d05-5790-4f0c-acbc-1980dd30a35f",
   "metadata": {},
   "outputs": [],
   "source": [
    "import seaborn as sns\n",
    "# gráfico da distribuição de regiões internacionais\n",
    "reg_pd = dis_reg.toPandas()\n",
    "\n",
    "plt.figure()\n",
    "sns.barplot(x = \"GEO Region\", y = \"Freq Absoluta\", data = reg_pd)\n",
    "plt.title(\"Distribuição voos Internacionais\")\n",
    "plt.ylabel(\"Frequência\")\n",
    "plt.xticks(rotation = 35, fontsize = \"small\")\n",
    "plt.show()"
   ]
  },
  {
   "cell_type": "markdown",
   "id": "c61b1f28-f881-4bf1-bdfb-9dde3945990d",
   "metadata": {
    "jp-MarkdownHeadingCollapsed": true
   },
   "source": [
    "### Análise de correlação entre variáveis"
   ]
  },
  {
   "cell_type": "code",
   "execution_count": null,
   "id": "8caa774a-6e2b-4674-a0c2-f929f71a443d",
   "metadata": {},
   "outputs": [],
   "source": [
    "from pyspark.ml.feature import StringIndexer"
   ]
  },
  {
   "cell_type": "code",
   "execution_count": null,
   "id": "3e9d2324-3e93-4ad1-8200-0d0ef27d1f42",
   "metadata": {},
   "outputs": [],
   "source": [
    "#Defino colunas que vou utilizar na matriz de correlação\n",
    "vars = [\"Operating Airline\", \"Published Airline\",\n",
    "        \"Activity Period\", \"GEO Summary\", \"GEO Region\", \n",
    "        \"Activity Type Code\", \"Price Category Code\",\n",
    "        \"Terminal\", \"Boarding Area\", \"Adjusted Passenger Count\", \n",
    "        \"Year\", \"Month\"]\n",
    "\n",
    "# crio copia do df com as variáveis selecionadas\n",
    "corr = df_sp.select(vars)\n",
    "corr.printSchema()"
   ]
  },
  {
   "cell_type": "code",
   "execution_count": null,
   "id": "743c210c-4fc3-4a62-afd6-cc743b790bda",
   "metadata": {},
   "outputs": [],
   "source": [
    "input = [\"Operating Airline\", \"Published Airline\", \"GEO Summary\", \"GEO Region\", \n",
    "        \"Activity Type Code\", \"Price Category Code\",\n",
    "        \"Terminal\", \"Boarding Area\"]\n",
    "output = [\"operator_ind\", \"published_ind \", \"geo_summary_index\", \"region_index\", \n",
    "        \"activity_index\", \"price_index\",\n",
    "        \"terminal_index\", \"boarding_index\"]\n",
    "\n",
    "# defino o objeto StringIndexer e treino ele com os meus dados\n",
    "indexer = StringIndexer(inputCols = input, outputCols = output)\n",
    "si_model = indexer.fit(corr)\n",
    "\n",
    "# transformo o df para valores numéricos\n",
    "corr = si_model.transform(corr)"
   ]
  },
  {
   "cell_type": "code",
   "execution_count": null,
   "id": "266144f4-bada-4bec-83bb-a6729e02b691",
   "metadata": {},
   "outputs": [],
   "source": [
    "# visualizo frequência de variáveis segundo StringIndexer \n",
    "for i in si_model.labelsArray:\n",
    "    print (i)"
   ]
  },
  {
   "cell_type": "code",
   "execution_count": null,
   "id": "19713da0-8409-481f-bd6e-0378a9482d08",
   "metadata": {},
   "outputs": [],
   "source": [
    "import numpy as np\n",
    "# apago colunas com valores em formato string\n",
    "corr = corr.drop(\"Operating Airline\", \"Published Airline\",\n",
    "                 \"Activity Period\" ,\"GEO Summary\", \"GEO Region\", \n",
    "                 \"Activity Type Code\", \"Price Category Code\",\n",
    "                 \"Terminal\", \"Boarding Area\")\n",
    "\n",
    "corr_pd = corr.toPandas()\n",
    "\n",
    "# calculo matriz de correlação\n",
    "matriz = np.corrcoef(corr_pd, rowvar = False)"
   ]
  },
  {
   "cell_type": "code",
   "execution_count": null,
   "id": "ff39f7f8-7e19-418d-b97b-cd7ebc2d3863",
   "metadata": {},
   "outputs": [],
   "source": [
    "# crio mapa de calor para visualizar correalações\n",
    "plt.figure(figsize=(11,6))\n",
    "sns.heatmap(matriz, cmap= \"coolwarm\", annot = True, fmt = \".2f\", linewidths = 0.5)\n",
    "plt.title(\"Mapa calor de correlação entre variáveis\")\n",
    "plt.xlabel(\"Passageiros - Ano - Mês - Operacão - Publicidade - Tipo - Região - Estado - Categoria - Terminal - Sala\")\n",
    "plt.show()"
   ]
  },
  {
   "cell_type": "markdown",
   "id": "98b44ef5-10a5-4500-bd4f-56ed59391b95",
   "metadata": {
    "jp-MarkdownHeadingCollapsed": true
   },
   "source": [
    "### Modelo de Machine Learning Agrupamentos Hierárquicos"
   ]
  },
  {
   "cell_type": "code",
   "execution_count": null,
   "id": "e5e89d58-0eec-4836-8586-9cc06d40c918",
   "metadata": {},
   "outputs": [],
   "source": [
    "# importo as bibliotecas necessárias\n",
    "from pyspark.ml.clustering import BisectingKMeans\n",
    "from pyspark.ml.evaluation import ClusteringEvaluator\n",
    "from pyspark.ml.feature import VectorAssembler"
   ]
  },
  {
   "cell_type": "code",
   "execution_count": null,
   "id": "2a06676e-2f46-467f-9284-68e74b4dce18",
   "metadata": {},
   "outputs": [],
   "source": [
    "inputs = [\"Operating Airline\", \"Published Airline\", \"GEO Summary\", \"GEO Region\", \n",
    "         \"Activity Type Code\", \"Price Category Code\",\n",
    "         \"Terminal\", \"Boarding Area\"] \n",
    "outputs = [\"operator_ind\", \"published_ind \", \"geo_summary_index\", \"region_index\", \n",
    "        \"activity_index\", \"price_index\",\n",
    "        \"terminal_index\", \"boarding_index\"]\n",
    "\n",
    "indexer = StringIndexer(inputCols = inputs, outputCols = outputs)\n",
    "ind_modelo = indexer.fit(df_sp)\n",
    "\n",
    "indexer_df = ind_modelo.transform(df_sp)"
   ]
  },
  {
   "cell_type": "code",
   "execution_count": null,
   "id": "eab61094-85ca-4088-aa46-205ec2827a74",
   "metadata": {},
   "outputs": [],
   "source": [
    "features = [\"Activity Period\", \"operator_ind\", \"published_ind \", \n",
    "            \"geo_summary_index\", \"region_index\", \"activity_index\", \"price_index\",\n",
    "            \"terminal_index\", \"boarding_index\", \"Month\", \"Adjusted Passenger Count\"]\n",
    "\n",
    "assembler = VectorAssembler(inputCols = features, outputCol = \"features\")\n",
    "va_df = assembler.transform(indexer_df)"
   ]
  },
  {
   "cell_type": "markdown",
   "id": "8418dad5-d629-44f6-a078-137b40bf9443",
   "metadata": {},
   "source": [
    "#### Voos internacionais"
   ]
  },
  {
   "cell_type": "code",
   "execution_count": null,
   "id": "7191b63c-947b-4261-addb-e6dc12d4b7d5",
   "metadata": {},
   "outputs": [],
   "source": [
    "inter = va_df.filter(f.col(\"GEO Summary\") == \"International\")"
   ]
  },
  {
   "cell_type": "code",
   "execution_count": null,
   "id": "7c800388-b220-4848-b8f4-121bbb4167ba",
   "metadata": {},
   "outputs": [],
   "source": [
    "# objeto para calcular o Silhouette\n",
    "evaluator = ClusteringEvaluator(predictionCol = \"prediction\",\n",
    "                                featuresCol = \"features\",\n",
    "                                metricName = \"silhouette\")"
   ]
  },
  {
   "cell_type": "code",
   "execution_count": null,
   "id": "86f855f4-8d4a-41f9-8f95-deb779e88ced",
   "metadata": {},
   "outputs": [],
   "source": [
    "# loop para conhecer eficácia de diferentes K\n",
    "for k in range(3, 7):\n",
    "    bkm = BisectingKMeans().setK(k).setSeed(1)\n",
    "    modelo = bkm.fit(inter)\n",
    "    prediction = modelo.transform(inter)\n",
    "    silhouette = evaluator.evaluate(prediction)\n",
    "    print(f\"K={k}, Silhouette Score={silhouette}\")"
   ]
  },
  {
   "cell_type": "code",
   "execution_count": null,
   "id": "135ac596-fdf7-450c-9056-fb6ea29c36bb",
   "metadata": {},
   "outputs": [],
   "source": [
    "bkm = BisectingKMeans().setK(3).setSeed(1)\n",
    "modelo = bkm.fit(inter)\n",
    "prediction_inter = modelo.transform(inter)\n",
    "silhouette = evaluator.evaluate(prediction_inter)\n",
    "print(f\"K=3, Silhouette Score={silhouette}\")\n",
    "\n",
    "print(\"Cluster Centers: \")\n",
    "centers = modelo.clusterCenters()\n",
    "for center in centers:\n",
    "    print(center)"
   ]
  },
  {
   "cell_type": "code",
   "execution_count": null,
   "id": "6cf5117f-102b-473d-bd10-2cf6ed842684",
   "metadata": {},
   "outputs": [],
   "source": [
    "# tabela com centroides dos clusters\n",
    "summary_df = prediction_inter.groupBy(\"prediction\")\\\n",
    "    .agg(f.round(f.avg(\"Activity Period\")).alias(\"Periodo\"),\n",
    "         f.round(f.avg(\"operator_ind\"),2).alias(\"Operador\"),\n",
    "         f.round(f.avg(\"region_index\"),2).alias(\"Regiao\"),\n",
    "         f.round(f.avg(\"activity_index\"),2).alias(\"Estado\"),\n",
    "         f.round(f.avg(\"price_index\")).alias(\"Categoria\"),\n",
    "         f.round(f.avg(\"terminal_index\"),2).alias(\"Terminal\"),\n",
    "         f.round(f.avg(\"boarding_index\"),2).alias(\"Embarque\"),\n",
    "         f.round(f.avg(\"Month\")).alias(\"Mês\"),\n",
    "         f.round(f.avg(\"Adjusted Passenger Count\")).alias(\"Media Passageiros\"),\n",
    "        ).orderBy(\"prediction\").toPandas()\n",
    "\n",
    "summary_df"
   ]
  },
  {
   "cell_type": "code",
   "execution_count": null,
   "id": "db6a4596-feff-4cf7-b012-cfc9f212ccd7",
   "metadata": {},
   "outputs": [],
   "source": [
    "# gráfico dendograma\n",
    "from scipy.cluster.hierarchy import dendrogram, linkage\n",
    "\n",
    "linkage = linkage(modelo.clusterCenters(), \"single\")\n",
    "\n",
    "plt.figure(figsize =(5,3))\n",
    "dendrogram(linkage)\n",
    "plt.title(\"Agrupamento Hierárquico Bisecting KMeans\")\n",
    "plt.xlabel(\"Clusters\")\n",
    "plt.ylabel(\"Distância\")\n",
    "plt.show()"
   ]
  },
  {
   "cell_type": "markdown",
   "id": "901e7e8e-1398-4f12-9575-f81c685f5ce8",
   "metadata": {},
   "source": [
    "#### Exploração das propriedades"
   ]
  },
  {
   "cell_type": "code",
   "execution_count": null,
   "id": "c437c992-3642-4c84-a9b3-e28459987eb7",
   "metadata": {},
   "outputs": [],
   "source": [
    "clusters = prediction_inter.groupBy(\"prediction\")\\\n",
    "                .count()\\\n",
    "                .orderBy(\"prediction\")\\\n",
    "\n",
    "clusters.show()"
   ]
  },
  {
   "cell_type": "code",
   "execution_count": null,
   "id": "87cc9669-6123-4e3f-b01c-59227631aab4",
   "metadata": {},
   "outputs": [],
   "source": [
    "df_pandas = clusters.toPandas()\n",
    "\n",
    "plt.figure(figsize = (5,3))\n",
    "sns.barplot(x= \"prediction\", y= \"count\", data = df_pandas)\n",
    "plt.title(\"Tamanho dos Clusters\")\n",
    "plt.xlabel(\"Clusters\")\n",
    "plt.ylabel(\"Registos\")\n",
    "plt.show()"
   ]
  },
  {
   "cell_type": "code",
   "execution_count": null,
   "id": "435bf840-7b77-4ff4-b3b7-a72d199e61a9",
   "metadata": {},
   "outputs": [],
   "source": [
    "prediction_inter.groupBy(\"prediction\")\\\n",
    "    .agg(f.round(f.avg(\"Adjusted Passenger Count\"))\\\n",
    "         .alias(\"média passageiros\"),\n",
    "         f.round(f.stddev(\"Adjusted Passenger Count\"),2)\\\n",
    "         .alias(\"desvio\"))\\\n",
    "    .orderBy(\"prediction\").show()"
   ]
  },
  {
   "cell_type": "code",
   "execution_count": null,
   "id": "43319f37-b86a-4849-bdc0-18f5deb94c3a",
   "metadata": {},
   "outputs": [],
   "source": [
    "df_pandas = prediction_inter.select(\"prediction\", \"Adjusted Passenger Count\").toPandas()\n",
    "\n",
    "plt.figure(figsize = (10,5))\n",
    "sns.boxplot(x = \"prediction\", \n",
    "            y=\"Adjusted Passenger Count\", \n",
    "            data = df_pandas,\n",
    "            hue = \"prediction\",\n",
    "            palette = \"Set2\")\n",
    "plt.xlabel(\"Agrupamentos\")\n",
    "plt.ylabel(\"Numero de Passageiros\")\n",
    "plt.title(\"Número de Passageiros por Agrupamento\")\n",
    "plt.grid(True)\n",
    "plt.show()"
   ]
  },
  {
   "cell_type": "code",
   "execution_count": null,
   "id": "a88ab127-de6c-4aec-9c73-c1fe1eefa227",
   "metadata": {},
   "outputs": [],
   "source": [
    "sazonal =prediction_inter.groupBy(\"prediction\", \"Month\")\\\n",
    "            .agg(f.count(\"Month\").alias(\"Frequencia\"))\\\n",
    "            .orderBy(\"prediction\", \"Month\")\n",
    "sazonal.show(5)"
   ]
  },
  {
   "cell_type": "code",
   "execution_count": null,
   "id": "28bf8817-da7a-40d2-9a36-ddeec1987ad2",
   "metadata": {},
   "outputs": [],
   "source": [
    "df_pandas = sazonal.toPandas()\n",
    "\n",
    "plt.figure(figsize = (6,5))\n",
    "sns.barplot(x= \"Month\", \n",
    "            y= \"Frequencia\", \n",
    "            hue=\"prediction\", \n",
    "            palette = \"Set2\",\n",
    "            data= df_pandas)\n",
    "plt.title(\"Frequência de voos mensais\")\n",
    "plt.xlabel(\"Mês\")\n",
    "plt.ylabel(\"Frequência\")\n",
    "plt.legend(title = \"Clusters\")\n",
    "plt.show()"
   ]
  },
  {
   "cell_type": "code",
   "execution_count": null,
   "id": "117f9143-51b3-4a9f-8919-ad3622f52b60",
   "metadata": {},
   "outputs": [],
   "source": [
    "regiao = prediction_inter.groupBy(\"prediction\", \"GEO Region\")\\\n",
    "            .agg(f.count(\"GEO Region\").alias(\"Contagem\"))\\\n",
    "            .orderBy(\"prediction\")\n",
    "\n",
    "regiao.show(5)"
   ]
  },
  {
   "cell_type": "code",
   "execution_count": null,
   "id": "7d0a68e9-300b-4a8c-b75d-a9dcfb6fdc4b",
   "metadata": {},
   "outputs": [],
   "source": [
    "df_pandas = regiao.toPandas()\n",
    "\n",
    "plt.figure(figsize = (6,5))\n",
    "sns.barplot(x= \"GEO Region\", \n",
    "            y= \"Contagem\", \n",
    "            data = df_pandas, \n",
    "            hue=\"prediction\",\n",
    "            palette = \"Set2\")\n",
    "plt.title(\"Regiões por cluster\")\n",
    "plt.xlabel(\"Região\")\n",
    "plt.xticks(rotation = 35, fontsize = \"small\")\n",
    "plt.legend(title = \"Cluster\")\n",
    "plt.show()"
   ]
  }
 ],
 "metadata": {
  "kernelspec": {
   "display_name": "Python 3 (ipykernel)",
   "language": "python",
   "name": "python3"
  },
  "language_info": {
   "codemirror_mode": {
    "name": "ipython",
    "version": 3
   },
   "file_extension": ".py",
   "mimetype": "text/x-python",
   "name": "python",
   "nbconvert_exporter": "python",
   "pygments_lexer": "ipython3",
   "version": "3.12.4"
  }
 },
 "nbformat": 4,
 "nbformat_minor": 5
}
